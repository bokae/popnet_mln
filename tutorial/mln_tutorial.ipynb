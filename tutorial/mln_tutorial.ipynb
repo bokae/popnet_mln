{
 "cells": [
  {
   "cell_type": "markdown",
   "metadata": {},
   "source": [
    "# MultiLayerNetwork Tutorial"
   ]
  },
  {
   "cell_type": "markdown",
   "metadata": {},
   "source": [
    "<span style=\"font-size:13pt\">In this tutorial we show how the MultiLayerNetwork (MLN) class can be used to work with the dummy POPNET network. For that we go through the relevant methods and show simple examples of how to use them. We show most functionalities on a subgraph of the network to keep processing times lower, but since this is also an MLN class, everything of course also works on the entire network.</span>"
   ]
  },
  {
   "cell_type": "markdown",
   "metadata": {},
   "source": [
    "<span style=\"font-size:13pt\">To import the class:</span>"
   ]
  },
  {
   "cell_type": "code",
   "execution_count": 1,
   "metadata": {},
   "outputs": [
    {
     "name": "stdout",
     "output_type": "stream",
     "text": [
      "We are currently working in the /home/bokanyie/projects/popnet_mln directory.\n"
     ]
    }
   ],
   "source": [
    "# might need to be altered depending on where mln.py is located\n",
    "import sys\n",
    "sys.path.append(\"../src\")\n",
    "from mln import MultiLayerNetwork"
   ]
  },
  {
   "cell_type": "markdown",
   "metadata": {},
   "source": [
    "<br><span style=\"font-size:13pt\">To create an instance of the MLN class using all POPNET data:</span>"
   ]
  },
  {
   "cell_type": "code",
   "execution_count": 2,
   "metadata": {},
   "outputs": [
    {
     "name": "stdout",
     "output_type": "stream",
     "text": [
      "\n",
      "            You are loading from raw CSV files.\n",
      "            This is a slow process, and it is recommended to use the library mode.\n",
      "            Use the export method to save time in the future.\n",
      "                  \n",
      "            E.g.:\n",
      "            >>> mln.export(\"my_library\")\n",
      "            \n",
      "Reading edge file test_data/dummy_popnet/popnet_edgelist.csv...\n",
      "\tLoading file...\n",
      "\tDone.\n",
      "Trying to create enriched layer dataframe...\n",
      "\tAdding binary representation, groups and long labels...\n",
      "Done.\n",
      "Reading layers.csv...\n",
      "Layer dataframe           label         layer  binary         group  \\\n",
      "0          work          work       1          work   \n",
      "1        school        school       2        school   \n",
      "2        cousin        cousin       4        cousin   \n",
      "3         child         child       8         child   \n",
      "4  aunt / uncle  aunt / uncle      16  aunt / uncle   \n",
      "\n",
      "                   label_long  \n",
      "0                  work: work  \n",
      "1              school: school  \n",
      "2              cousin: cousin  \n",
      "3                child: child  \n",
      "4  aunt / uncle: aunt / uncle   Index(['label', 'layer', 'binary', 'group', 'label_long'], dtype='object')\n",
      "LAYERS: 16\n",
      "Creating merged node attribute file...\n",
      "Merging all node files...\n",
      "Reading file test_data/dummy_popnet/popnet_nodelist.csv...\n",
      "   label  generation  gender\n",
      "0     50           1       0\n",
      "1     51           1       1\n",
      "2     52           1       1\n",
      "3     53           1       1\n",
      "4     54           1       1\n",
      "Initialized node dataframe.\n",
      "NODES: 146\n",
      "N is 146\n",
      "EDGES: 4338\n",
      "\tReading layer work: work with code work...\n",
      "\tStarting adjacency function for 588 edges...\n",
      "\t\tMapping edgelist.\n",
      "\t\tSymmetrizing connections...\n",
      "\t\tCreating adjacency matrix.\n",
      "\t\tAdding 588 edges.\n",
      "\tDone.\n",
      "\tReading layer school: school with code school...\n",
      "\tStarting adjacency function for 762 edges...\n",
      "\t\tMapping edgelist.\n",
      "\t\tSymmetrizing connections...\n",
      "\t\tCreating adjacency matrix.\n",
      "\t\tAdding 762 edges.\n",
      "\tDone.\n",
      "\tReading layer cousin: cousin with code cousin...\n",
      "\tStarting adjacency function for 470 edges...\n",
      "\t\tMapping edgelist.\n",
      "\t\tSymmetrizing connections...\n",
      "\t\tCreating adjacency matrix.\n",
      "\t\tAdding 470 edges.\n",
      "\tDone.\n",
      "\tReading layer child: child with code child...\n",
      "\tStarting adjacency function for 169 edges...\n",
      "\t\tMapping edgelist.\n",
      "\t\tSymmetrizing connections...\n",
      "\t\tCreating adjacency matrix.\n",
      "\t\tAdding 338 edges.\n",
      "\tDone.\n",
      "\tReading layer aunt / uncle: aunt / uncle with code aunt / uncle...\n",
      "\tStarting adjacency function for 293 edges...\n",
      "\t\tMapping edgelist.\n",
      "\t\tSymmetrizing connections...\n",
      "\t\tCreating adjacency matrix.\n",
      "\t\tAdding 586 edges.\n",
      "\tDone.\n",
      "\tReading layer household: household with code household...\n",
      "\tStarting adjacency function for 306 edges...\n",
      "\t\tMapping edgelist.\n",
      "\t\tSymmetrizing connections...\n",
      "\t\tCreating adjacency matrix.\n",
      "\t\tAdding 306 edges.\n",
      "\tDone.\n",
      "\tReading layer parent: parent with code parent...\n",
      "\tStarting adjacency function for 169 edges...\n",
      "\t\tMapping edgelist.\n",
      "\t\tSymmetrizing connections...\n",
      "\t\tCreating adjacency matrix.\n",
      "\t\tAdding 338 edges.\n",
      "\tDone.\n",
      "\tReading layer neighbor: neighbor with code neighbor...\n",
      "\tStarting adjacency function for 262 edges...\n",
      "\t\tMapping edgelist.\n",
      "\t\tSymmetrizing connections...\n",
      "\t\tCreating adjacency matrix.\n",
      "\t\tAdding 262 edges.\n",
      "\tDone.\n",
      "\tReading layer niece / nephew: niece / nephew with code niece / nephew...\n",
      "\tStarting adjacency function for 293 edges...\n",
      "\t\tMapping edgelist.\n",
      "\t\tSymmetrizing connections...\n",
      "\t\tCreating adjacency matrix.\n",
      "\t\tAdding 586 edges.\n",
      "\tDone.\n",
      "\tReading layer mother / father-in-law: mother / father-in-law with code mother / father-in-law...\n",
      "\tStarting adjacency function for 62 edges...\n",
      "\t\tMapping edgelist.\n",
      "\t\tSymmetrizing connections...\n",
      "\t\tCreating adjacency matrix.\n",
      "\t\tAdding 124 edges.\n",
      "\tDone.\n",
      "\tReading layer sister / brother-in-law: sister / brother-in-law with code sister / brother-in-law...\n",
      "\tStarting adjacency function for 264 edges...\n",
      "\t\tMapping edgelist.\n",
      "\t\tSymmetrizing connections...\n",
      "\t\tCreating adjacency matrix.\n",
      "\t\tAdding 264 edges.\n",
      "\tDone.\n",
      "\tReading layer grandchild: grandchild with code grandchild...\n",
      "\tStarting adjacency function for 151 edges...\n",
      "\t\tMapping edgelist.\n",
      "\t\tSymmetrizing connections...\n",
      "\t\tCreating adjacency matrix.\n",
      "\t\tAdding 302 edges.\n",
      "\tDone.\n",
      "\tReading layer daughter / son-in-law: daughter / son-in-law with code daughter / son-in-law...\n",
      "\tStarting adjacency function for 62 edges...\n",
      "\t\tMapping edgelist.\n",
      "\t\tSymmetrizing connections...\n",
      "\t\tCreating adjacency matrix.\n",
      "\t\tAdding 124 edges.\n",
      "\tDone.\n",
      "\tReading layer sibling: sibling with code sibling...\n",
      "\tStarting adjacency function for 258 edges...\n",
      "\t\tMapping edgelist.\n",
      "\t\tSymmetrizing connections...\n",
      "\t\tCreating adjacency matrix.\n",
      "\t\tAdding 258 edges.\n",
      "\tDone.\n",
      "\tReading layer grandparent: grandparent with code grandparent...\n",
      "\tStarting adjacency function for 151 edges...\n",
      "\t\tMapping edgelist.\n",
      "\t\tSymmetrizing connections...\n",
      "\t\tCreating adjacency matrix.\n",
      "\t\tAdding 302 edges.\n",
      "\tDone.\n",
      "\tReading layer partner: partner with code partner...\n",
      "\tStarting adjacency function for 78 edges...\n",
      "\t\tMapping edgelist.\n",
      "\t\tSymmetrizing connections...\n",
      "\t\tCreating adjacency matrix.\n",
      "\t\tAdding 78 edges.\n",
      "\tDone.\n",
      "EDGES: 3680\n"
     ]
    }
   ],
   "source": [
    "# loading from raw CSV files using the RawCSVPreparer class from src/preparation.py\n",
    "popnet = MultiLayerNetwork(load_from_config=True, config_path='src/config.json')\n",
    "# loading from a saved files using the MultiLayerNetwork class from src/mln.py\n",
    "popnet = MultiLayerNetwork(load_from_library=True, library_path='test_save')"
   ]
  },
  {
   "cell_type": "code",
   "execution_count": 3,
   "metadata": {},
   "outputs": [],
   "source": [
    "\n",
    "# creating from in-memory objects using the MultiLayerNetwork class from src/mln.py\n",
    "from scipy.sparse import load_npz\n",
    "import pandas as pd\n",
    "\n",
    "edges = load_npz('test_save/edges.npz')\n",
    "nodes = pd.read_csv('test_save/nodes.csv.gz')\n",
    "layers = pd.read_csv('test_save/layers.csv')\n",
    "\n",
    "popnet = MultiLayerNetwork(nodes, edges, layers)"
   ]
  },
  {
   "cell_type": "code",
   "execution_count": 4,
   "metadata": {},
   "outputs": [
    {
     "data": {
      "text/html": [
       "<div>\n",
       "<style scoped>\n",
       "    .dataframe tbody tr th:only-of-type {\n",
       "        vertical-align: middle;\n",
       "    }\n",
       "\n",
       "    .dataframe tbody tr th {\n",
       "        vertical-align: top;\n",
       "    }\n",
       "\n",
       "    .dataframe thead th {\n",
       "        text-align: right;\n",
       "    }\n",
       "</style>\n",
       "<table border=\"1\" class=\"dataframe\">\n",
       "  <thead>\n",
       "    <tr style=\"text-align: right;\">\n",
       "      <th></th>\n",
       "      <th>id</th>\n",
       "      <th>label</th>\n",
       "      <th>generation</th>\n",
       "      <th>gender</th>\n",
       "    </tr>\n",
       "  </thead>\n",
       "  <tbody>\n",
       "    <tr>\n",
       "      <th>0</th>\n",
       "      <td>0</td>\n",
       "      <td>50</td>\n",
       "      <td>1</td>\n",
       "      <td>0</td>\n",
       "    </tr>\n",
       "    <tr>\n",
       "      <th>1</th>\n",
       "      <td>1</td>\n",
       "      <td>51</td>\n",
       "      <td>1</td>\n",
       "      <td>1</td>\n",
       "    </tr>\n",
       "    <tr>\n",
       "      <th>2</th>\n",
       "      <td>2</td>\n",
       "      <td>52</td>\n",
       "      <td>1</td>\n",
       "      <td>1</td>\n",
       "    </tr>\n",
       "    <tr>\n",
       "      <th>3</th>\n",
       "      <td>3</td>\n",
       "      <td>53</td>\n",
       "      <td>1</td>\n",
       "      <td>1</td>\n",
       "    </tr>\n",
       "    <tr>\n",
       "      <th>4</th>\n",
       "      <td>4</td>\n",
       "      <td>54</td>\n",
       "      <td>1</td>\n",
       "      <td>1</td>\n",
       "    </tr>\n",
       "    <tr>\n",
       "      <th>...</th>\n",
       "      <td>...</td>\n",
       "      <td>...</td>\n",
       "      <td>...</td>\n",
       "      <td>...</td>\n",
       "    </tr>\n",
       "    <tr>\n",
       "      <th>141</th>\n",
       "      <td>141</td>\n",
       "      <td>195</td>\n",
       "      <td>3</td>\n",
       "      <td>0</td>\n",
       "    </tr>\n",
       "    <tr>\n",
       "      <th>142</th>\n",
       "      <td>142</td>\n",
       "      <td>196</td>\n",
       "      <td>3</td>\n",
       "      <td>0</td>\n",
       "    </tr>\n",
       "    <tr>\n",
       "      <th>143</th>\n",
       "      <td>143</td>\n",
       "      <td>197</td>\n",
       "      <td>3</td>\n",
       "      <td>1</td>\n",
       "    </tr>\n",
       "    <tr>\n",
       "      <th>144</th>\n",
       "      <td>144</td>\n",
       "      <td>198</td>\n",
       "      <td>3</td>\n",
       "      <td>0</td>\n",
       "    </tr>\n",
       "    <tr>\n",
       "      <th>145</th>\n",
       "      <td>145</td>\n",
       "      <td>199</td>\n",
       "      <td>3</td>\n",
       "      <td>0</td>\n",
       "    </tr>\n",
       "  </tbody>\n",
       "</table>\n",
       "<p>146 rows × 4 columns</p>\n",
       "</div>"
      ],
      "text/plain": [
       "      id  label  generation  gender\n",
       "0      0     50           1       0\n",
       "1      1     51           1       1\n",
       "2      2     52           1       1\n",
       "3      3     53           1       1\n",
       "4      4     54           1       1\n",
       "..   ...    ...         ...     ...\n",
       "141  141    195           3       0\n",
       "142  142    196           3       0\n",
       "143  143    197           3       1\n",
       "144  144    198           3       0\n",
       "145  145    199           3       0\n",
       "\n",
       "[146 rows x 4 columns]"
      ]
     },
     "execution_count": 4,
     "metadata": {},
     "output_type": "execute_result"
    }
   ],
   "source": [
    "popnet.nodes"
   ]
  },
  {
   "cell_type": "code",
   "execution_count": 5,
   "metadata": {},
   "outputs": [
    {
     "data": {
      "text/plain": [
       "<146x146 sparse matrix of type '<class 'numpy.int64'>'\n",
       "\twith 3680 stored elements in Compressed Sparse Row format>"
      ]
     },
     "execution_count": 5,
     "metadata": {},
     "output_type": "execute_result"
    }
   ],
   "source": [
    "popnet.A"
   ]
  },
  {
   "cell_type": "code",
   "execution_count": 6,
   "metadata": {},
   "outputs": [
    {
     "data": {
      "text/html": [
       "<div>\n",
       "<style scoped>\n",
       "    .dataframe tbody tr th:only-of-type {\n",
       "        vertical-align: middle;\n",
       "    }\n",
       "\n",
       "    .dataframe tbody tr th {\n",
       "        vertical-align: top;\n",
       "    }\n",
       "\n",
       "    .dataframe thead th {\n",
       "        text-align: right;\n",
       "    }\n",
       "</style>\n",
       "<table border=\"1\" class=\"dataframe\">\n",
       "  <thead>\n",
       "    <tr style=\"text-align: right;\">\n",
       "      <th></th>\n",
       "      <th>label</th>\n",
       "      <th>layer</th>\n",
       "      <th>binary</th>\n",
       "      <th>group</th>\n",
       "      <th>label_long</th>\n",
       "    </tr>\n",
       "  </thead>\n",
       "  <tbody>\n",
       "    <tr>\n",
       "      <th>0</th>\n",
       "      <td>work</td>\n",
       "      <td>work</td>\n",
       "      <td>1</td>\n",
       "      <td>work</td>\n",
       "      <td>work: work</td>\n",
       "    </tr>\n",
       "    <tr>\n",
       "      <th>1</th>\n",
       "      <td>school</td>\n",
       "      <td>school</td>\n",
       "      <td>2</td>\n",
       "      <td>school</td>\n",
       "      <td>school: school</td>\n",
       "    </tr>\n",
       "    <tr>\n",
       "      <th>2</th>\n",
       "      <td>cousin</td>\n",
       "      <td>cousin</td>\n",
       "      <td>4</td>\n",
       "      <td>family</td>\n",
       "      <td>cousin: cousin</td>\n",
       "    </tr>\n",
       "    <tr>\n",
       "      <th>3</th>\n",
       "      <td>child</td>\n",
       "      <td>child</td>\n",
       "      <td>8</td>\n",
       "      <td>family</td>\n",
       "      <td>child: child</td>\n",
       "    </tr>\n",
       "    <tr>\n",
       "      <th>4</th>\n",
       "      <td>aunt / uncle</td>\n",
       "      <td>aunt / uncle</td>\n",
       "      <td>16</td>\n",
       "      <td>family</td>\n",
       "      <td>aunt / uncle: aunt / uncle</td>\n",
       "    </tr>\n",
       "    <tr>\n",
       "      <th>5</th>\n",
       "      <td>household</td>\n",
       "      <td>household</td>\n",
       "      <td>32</td>\n",
       "      <td>family</td>\n",
       "      <td>household: household</td>\n",
       "    </tr>\n",
       "    <tr>\n",
       "      <th>6</th>\n",
       "      <td>parent</td>\n",
       "      <td>parent</td>\n",
       "      <td>64</td>\n",
       "      <td>family</td>\n",
       "      <td>parent: parent</td>\n",
       "    </tr>\n",
       "    <tr>\n",
       "      <th>7</th>\n",
       "      <td>neighbor</td>\n",
       "      <td>neighbor</td>\n",
       "      <td>128</td>\n",
       "      <td>family</td>\n",
       "      <td>neighbor: neighbor</td>\n",
       "    </tr>\n",
       "    <tr>\n",
       "      <th>8</th>\n",
       "      <td>niece / nephew</td>\n",
       "      <td>niece / nephew</td>\n",
       "      <td>256</td>\n",
       "      <td>family</td>\n",
       "      <td>niece / nephew: niece / nephew</td>\n",
       "    </tr>\n",
       "    <tr>\n",
       "      <th>9</th>\n",
       "      <td>mother / father-in-law</td>\n",
       "      <td>mother / father-in-law</td>\n",
       "      <td>512</td>\n",
       "      <td>family</td>\n",
       "      <td>mother / father-in-law: mother / father-in-law</td>\n",
       "    </tr>\n",
       "    <tr>\n",
       "      <th>10</th>\n",
       "      <td>sister / brother-in-law</td>\n",
       "      <td>sister / brother-in-law</td>\n",
       "      <td>1024</td>\n",
       "      <td>family</td>\n",
       "      <td>sister / brother-in-law: sister / brother-in-law</td>\n",
       "    </tr>\n",
       "    <tr>\n",
       "      <th>11</th>\n",
       "      <td>grandchild</td>\n",
       "      <td>grandchild</td>\n",
       "      <td>2048</td>\n",
       "      <td>family</td>\n",
       "      <td>grandchild: grandchild</td>\n",
       "    </tr>\n",
       "    <tr>\n",
       "      <th>12</th>\n",
       "      <td>daughter / son-in-law</td>\n",
       "      <td>daughter / son-in-law</td>\n",
       "      <td>4096</td>\n",
       "      <td>family</td>\n",
       "      <td>daughter / son-in-law: daughter / son-in-law</td>\n",
       "    </tr>\n",
       "    <tr>\n",
       "      <th>13</th>\n",
       "      <td>sibling</td>\n",
       "      <td>sibling</td>\n",
       "      <td>8192</td>\n",
       "      <td>family</td>\n",
       "      <td>sibling: sibling</td>\n",
       "    </tr>\n",
       "    <tr>\n",
       "      <th>14</th>\n",
       "      <td>grandparent</td>\n",
       "      <td>grandparent</td>\n",
       "      <td>16384</td>\n",
       "      <td>family</td>\n",
       "      <td>grandparent: grandparent</td>\n",
       "    </tr>\n",
       "    <tr>\n",
       "      <th>15</th>\n",
       "      <td>partner</td>\n",
       "      <td>partner</td>\n",
       "      <td>32768</td>\n",
       "      <td>family</td>\n",
       "      <td>partner: partner</td>\n",
       "    </tr>\n",
       "  </tbody>\n",
       "</table>\n",
       "</div>"
      ],
      "text/plain": [
       "                      label                    layer  binary   group  \\\n",
       "0                      work                     work       1    work   \n",
       "1                    school                   school       2  school   \n",
       "2                    cousin                   cousin       4  family   \n",
       "3                     child                    child       8  family   \n",
       "4              aunt / uncle             aunt / uncle      16  family   \n",
       "5                 household                household      32  family   \n",
       "6                    parent                   parent      64  family   \n",
       "7                  neighbor                 neighbor     128  family   \n",
       "8            niece / nephew           niece / nephew     256  family   \n",
       "9    mother / father-in-law   mother / father-in-law     512  family   \n",
       "10  sister / brother-in-law  sister / brother-in-law    1024  family   \n",
       "11               grandchild               grandchild    2048  family   \n",
       "12    daughter / son-in-law    daughter / son-in-law    4096  family   \n",
       "13                  sibling                  sibling    8192  family   \n",
       "14              grandparent              grandparent   16384  family   \n",
       "15                  partner                  partner   32768  family   \n",
       "\n",
       "                                          label_long  \n",
       "0                                         work: work  \n",
       "1                                     school: school  \n",
       "2                                     cousin: cousin  \n",
       "3                                       child: child  \n",
       "4                         aunt / uncle: aunt / uncle  \n",
       "5                               household: household  \n",
       "6                                     parent: parent  \n",
       "7                                 neighbor: neighbor  \n",
       "8                     niece / nephew: niece / nephew  \n",
       "9     mother / father-in-law: mother / father-in-law  \n",
       "10  sister / brother-in-law: sister / brother-in-law  \n",
       "11                            grandchild: grandchild  \n",
       "12      daughter / son-in-law: daughter / son-in-law  \n",
       "13                                  sibling: sibling  \n",
       "14                          grandparent: grandparent  \n",
       "15                                  partner: partner  "
      ]
     },
     "execution_count": 6,
     "metadata": {},
     "output_type": "execute_result"
    }
   ],
   "source": [
    "popnet.layers"
   ]
  },
  {
   "cell_type": "markdown",
   "metadata": {},
   "source": [
    "---"
   ]
  },
  {
   "cell_type": "markdown",
   "metadata": {},
   "source": [
    "## Filtering"
   ]
  },
  {
   "cell_type": "markdown",
   "metadata": {},
   "source": [
    "<br><span style=\"font-size:13pt\">To get an instance of the MLN class only containing **nodes with certain labels**</span>"
   ]
  },
  {
   "cell_type": "code",
   "execution_count": 7,
   "metadata": {},
   "outputs": [],
   "source": [
    "from random import sample\n",
    "# selecting females\n",
    "selection = popnet.nodes[popnet.nodes[\"gender\"]==0][\"label\"]"
   ]
  },
  {
   "cell_type": "code",
   "execution_count": 8,
   "metadata": {},
   "outputs": [
    {
     "name": "stdout",
     "output_type": "stream",
     "text": [
      "Number of people: 76\n",
      "Number of connected pairs of people: 914\n"
     ]
    }
   ],
   "source": [
    "filtered = popnet.get_filtered_network(nodes_selected=selection)\n",
    "\n",
    "print(\"Number of people:\", filtered.N)\n",
    "print(\"Number of connected pairs of people:\", filtered.A.nnz)"
   ]
  },
  {
   "cell_type": "markdown",
   "metadata": {},
   "source": [
    "<br><span style=\"font-size:13pt\">To get an instance of the MLN class containing just **certain layers**, e.g. the household layer:</span>"
   ]
  },
  {
   "cell_type": "code",
   "execution_count": 9,
   "metadata": {},
   "outputs": [
    {
     "name": "stdout",
     "output_type": "stream",
     "text": [
      "Number of people: 76\n",
      "Number of connected pairs of people: 50\n"
     ]
    }
   ],
   "source": [
    "filtered_h = filtered.get_filtered_network(layers_selected=[\"household\"],layer_type=\"label\")\n",
    "\n",
    "print(\"Number of people:\", filtered_h.N)\n",
    "print(\"Number of connected pairs of people:\", filtered_h.A.nnz)"
   ]
  },
  {
   "cell_type": "markdown",
   "metadata": {},
   "source": [
    "To get an instance containing just certain groups of layers, e.g. the family edges:"
   ]
  },
  {
   "cell_type": "code",
   "execution_count": 10,
   "metadata": {},
   "outputs": [],
   "source": [
    "filtered_g = filtered.get_filtered_network(groups_selected=[\"family\"])"
   ]
  },
  {
   "cell_type": "markdown",
   "metadata": {},
   "source": [
    "<br><span style=\"font-size:13pt\">These filtering methods can also be used in **any combination**, e.g. all together:</span>"
   ]
  },
  {
   "cell_type": "code",
   "execution_count": 11,
   "metadata": {},
   "outputs": [
    {
     "name": "stdout",
     "output_type": "stream",
     "text": [
      "Number of people: 76\n",
      "Number of connected pairs of people: 364\n"
     ]
    }
   ],
   "source": [
    "filtered = popnet.get_filtered_network(\n",
    "    nodes_selected=selection,\n",
    "    layers_selected=[\"household\"],\n",
    "    groups_selected=[\"family\"]    \n",
    ")\n",
    "\n",
    "print(\"Number of people:\", filtered.N)\n",
    "print(\"Number of connected pairs of people:\", filtered.A.nnz)"
   ]
  },
  {
   "cell_type": "markdown",
   "metadata": {},
   "source": [
    "---"
   ]
  },
  {
   "cell_type": "markdown",
   "metadata": {},
   "source": [
    "## Conversion to other formats"
   ]
  },
  {
   "cell_type": "markdown",
   "metadata": {},
   "source": [
    "### igraph"
   ]
  },
  {
   "cell_type": "markdown",
   "metadata": {},
   "source": [
    "<span style=\"font-size:13pt\">Note that igraph automatically labels nodes from 0 through N-1 but these labels very likely do not line up with the mapping from IDs to labels as stored in `mln.nodemap_back`. However, we do always store the labels as node attributes.</span>"
   ]
  },
  {
   "cell_type": "code",
   "execution_count": 12,
   "metadata": {},
   "outputs": [],
   "source": [
    "# prerequisites, also make sure to import the MLN class and create the\n",
    "# `popnet` instance, as shown at the very start of this tutorial\n",
    "\n",
    "import igraph as ig\n",
    "\n",
    "filtered = popnet.get_filtered_network(nodes_selected=selection)"
   ]
  },
  {
   "cell_type": "markdown",
   "metadata": {},
   "source": [
    "---"
   ]
  },
  {
   "cell_type": "markdown",
   "metadata": {},
   "source": [
    "<span style=\"font-size:13pt\">To obtain an **igraph Graph object** representing the MLN:</span>"
   ]
  },
  {
   "cell_type": "code",
   "execution_count": 13,
   "metadata": {},
   "outputs": [
    {
     "name": "stdout",
     "output_type": "stream",
     "text": [
      "IGRAPH D--- 76 672 -- \n",
      "+ attr: gender (v), generation (v), id (v), label (v), layer (e)\n"
     ]
    }
   ],
   "source": [
    "g_igraph = filtered.to_igraph(node_attributes=True, edge_attributes=True)\n",
    "\n",
    "ig.summary(g_igraph) # print the node count, edge count, and a list of the available attributes"
   ]
  },
  {
   "cell_type": "markdown",
   "metadata": {},
   "source": [
    "<br><span style=\"font-size:13pt\">To obtain an **undirected** igraph Graph object of the MLN:</span>"
   ]
  },
  {
   "cell_type": "code",
   "execution_count": 14,
   "metadata": {},
   "outputs": [
    {
     "name": "stdout",
     "output_type": "stream",
     "text": [
      "IGRAPH U--- 76 336 -- \n",
      "+ attr: label (v), layer (e)\n",
      "Directed: False\n"
     ]
    }
   ],
   "source": [
    "g_igraph_u = filtered.to_igraph(directed=False)\n",
    "\n",
    "ig.summary(g_igraph_u)\n",
    "print(\"Directed:\", g_igraph_u.is_directed())"
   ]
  },
  {
   "cell_type": "markdown",
   "metadata": {},
   "source": [
    "<br><span style=\"font-size:13pt\">To **omit link types and node attributes** (except for the node labels):</span>"
   ]
  },
  {
   "cell_type": "code",
   "execution_count": 15,
   "metadata": {},
   "outputs": [
    {
     "name": "stdout",
     "output_type": "stream",
     "text": [
      "IGRAPH D--- 76 672 -- \n",
      "+ attr: label (v)\n"
     ]
    }
   ],
   "source": [
    "g_igraph = filtered.to_igraph(edge_attributes=False, node_attributes=False)\n",
    "\n",
    "ig.summary(g_igraph)"
   ]
  },
  {
   "cell_type": "markdown",
   "metadata": {},
   "source": [
    "<br><span style=\"font-size:13pt\">The igraph objects are also stored in the `igraph` attribute of the MLN class. Unless we specify otherwise, only the result from the first call to `.get_igraph()` will be stored. To overwrite this:</span>"
   ]
  },
  {
   "cell_type": "code",
   "execution_count": 16,
   "metadata": {},
   "outputs": [
    {
     "name": "stdout",
     "output_type": "stream",
     "text": [
      "Before:\n",
      "IGRAPH D--- 76 672 -- \n",
      "+ attr: gender (v), generation (v), id (v), label (v), layer (e)\n",
      "\n",
      "After:\n",
      "IGRAPH U--- 76 336 -- \n",
      "+ attr: gender (v), generation (v), id (v), label (v), layer (e)\n"
     ]
    }
   ],
   "source": [
    "print(\"Before:\")\n",
    "ig.summary(filtered.igraph)\n",
    "\n",
    "# overwrite using replace_igraph=True\n",
    "filtered.to_igraph(replace_igraph=True, directed=False, node_attributes=True)\n",
    "\n",
    "print(\"\\nAfter:\")\n",
    "ig.summary(filtered.igraph)"
   ]
  },
  {
   "cell_type": "markdown",
   "metadata": {},
   "source": [
    "<br>"
   ]
  },
  {
   "cell_type": "markdown",
   "metadata": {},
   "source": [
    "---"
   ]
  },
  {
   "cell_type": "markdown",
   "metadata": {},
   "source": [
    "### NetworkX"
   ]
  },
  {
   "cell_type": "markdown",
   "metadata": {},
   "source": [
    "<span style=\"font-size:13pt\">Note that NetworkX automatically labels nodes from 0 through N-1 but these labels very likely do not line up with the mapping from IDs to labels as stored in the class. However, we do always store the labels as node attributes.</span>"
   ]
  },
  {
   "cell_type": "code",
   "execution_count": 17,
   "metadata": {},
   "outputs": [],
   "source": [
    "# prerequisites, also make sure to import the MLN class and create the\n",
    "# `popnet` instance, as shown at the very start of this tutorial\n",
    "\n",
    "# TODO I stop here\n",
    "\n",
    "import networkx as nx\n",
    "\n",
    "filtered = popnet.get_filtered_network(nodes_selected=selection)"
   ]
  },
  {
   "cell_type": "markdown",
   "metadata": {},
   "source": [
    "---"
   ]
  },
  {
   "cell_type": "markdown",
   "metadata": {},
   "source": [
    "<span style=\"font-size:13pt\">We can also obtain a **NetworkX graph** representation of the MLN. Since NetworkX is a less efficient library, we recommend to only use if for networks smaller than `mln.nx_limit`. To create a NetworkX graph for a network that is larger:</span>"
   ]
  },
  {
   "cell_type": "code",
   "execution_count": 18,
   "metadata": {},
   "outputs": [
    {
     "name": "stdout",
     "output_type": "stream",
     "text": [
      "DiGraph with 76 nodes and 672 edges\n"
     ]
    }
   ],
   "source": [
    "g_nx = filtered.to_networkx(ignore_limit=True)\n",
    "\n",
    "print(nx.info(g_nx))"
   ]
  },
  {
   "cell_type": "markdown",
   "metadata": {},
   "source": [
    "<br><span style=\"font-size:13pt\">To obtain an **undirected** version of the network:</span>"
   ]
  },
  {
   "cell_type": "code",
   "execution_count": 19,
   "metadata": {},
   "outputs": [
    {
     "name": "stdout",
     "output_type": "stream",
     "text": [
      "Graph with 76 nodes and 336 edges\n"
     ]
    }
   ],
   "source": [
    "g_nx = filtered.to_networkx(node_attributes=True,directed=False, ignore_limit=True)\n",
    "\n",
    "print(nx.info(g_nx))"
   ]
  },
  {
   "cell_type": "markdown",
   "metadata": {},
   "source": [
    "<br><span style=\"font-size:13pt\">To **node attributes** (except for the labels):</span>"
   ]
  },
  {
   "cell_type": "code",
   "execution_count": 20,
   "metadata": {},
   "outputs": [
    {
     "name": "stdout",
     "output_type": "stream",
     "text": [
      "{'id': 0, 'label': 50, 'generation': 1, 'gender': 0}\n",
      "{'link_types': ['sister / brother-in-law']}\n",
      "\n",
      "{'label': 50}\n",
      "{}\n"
     ]
    }
   ],
   "source": [
    "print(g_nx.nodes[0])\n",
    "print(g_nx.edges[0, 15]) # inspect one link manually to show the link type\n",
    "\n",
    "# new graph without node and edge attributes\n",
    "g_nx = filtered.to_networkx(edge_attributes=False, node_attributes=False, ignore_limit=True)\n",
    "\n",
    "print()\n",
    "print(g_nx.nodes[0])\n",
    "print(g_nx.edges[0,15])"
   ]
  },
  {
   "cell_type": "markdown",
   "metadata": {},
   "source": [
    "<span style=\"font-size:13pt\">The NetworkX networks are not stored directly as an attribute of the MLN class, and so there is no replace function as there is for igraph.</span>"
   ]
  },
  {
   "cell_type": "markdown",
   "metadata": {},
   "source": [
    "---"
   ]
  },
  {
   "cell_type": "markdown",
   "metadata": {},
   "source": [
    "\n",
    "## Exporting and importing"
   ]
  },
  {
   "cell_type": "markdown",
   "metadata": {},
   "source": [
    "---"
   ]
  },
  {
   "cell_type": "markdown",
   "metadata": {},
   "source": [
    "<span style=\"font-size:13pt\">To **export all data** in an MLN object to a library:</span>"
   ]
  },
  {
   "cell_type": "code",
   "execution_count": 21,
   "metadata": {},
   "outputs": [
    {
     "name": "stdout",
     "output_type": "stream",
     "text": [
      "The folder \"filtered_full/\" already exists, call function with `overwrite = True` keyword argument if you're sure!\n"
     ]
    }
   ],
   "source": [
    "filtered = popnet.get_filtered_network(nodes_selected=selection)\n",
    "filtered.save(path=\"filtered_full\")"
   ]
  },
  {
   "cell_type": "markdown",
   "metadata": {},
   "source": [
    "<span style=\"font-size:13pt\">If a folder with the given name already exists, we can overwrite it with the argument `overwrite=True`.</span>"
   ]
  },
  {
   "cell_type": "markdown",
   "metadata": {},
   "source": [
    "<br><span style=\"font-size:13pt\">To **import** from a libary:</span>"
   ]
  },
  {
   "cell_type": "code",
   "execution_count": 22,
   "metadata": {},
   "outputs": [],
   "source": [
    "filtered2 = MultiLayerNetwork(\n",
    "    load_from_library=True,\n",
    "    library_path=\"filtered_full\"\n",
    ")"
   ]
  },
  {
   "cell_type": "markdown",
   "metadata": {},
   "source": [
    "<br><span style=\"font-size:13pt\">The **node attributes** can also be exported separately:</span>"
   ]
  },
  {
   "cell_type": "code",
   "execution_count": 23,
   "metadata": {},
   "outputs": [],
   "source": [
    "filtered.export_nodes(\"filtered_nodes.csv.gz\")"
   ]
  },
  {
   "cell_type": "markdown",
   "metadata": {},
   "source": [
    "<span style=\"font-size:13pt\">Uncompressed files and other file separators are also available.</span>"
   ]
  },
  {
   "cell_type": "markdown",
   "metadata": {},
   "source": [
    "<br><span style=\"font-size:13pt\">The **adjacency matrix** can also be exported separately, extension chooses between formats:</span>"
   ]
  },
  {
   "cell_type": "code",
   "execution_count": 24,
   "metadata": {},
   "outputs": [],
   "source": [
    "# TODO this should be export graphml\n",
    "filtered.export_edges(\"filtered_graph.graphml\")"
   ]
  },
  {
   "cell_type": "markdown",
   "metadata": {},
   "source": [
    "<span style=\"font-size:13pt\">Other file types and separators are also available.</span>"
   ]
  },
  {
   "cell_type": "markdown",
   "metadata": {},
   "source": [
    "---"
   ]
  },
  {
   "cell_type": "markdown",
   "metadata": {},
   "source": [
    "## Other functionalities / examples"
   ]
  },
  {
   "cell_type": "code",
   "execution_count": 25,
   "metadata": {},
   "outputs": [],
   "source": [
    "# prerequisites, also make sure to import the MLN class and create the\n",
    "# `popnet` instance, as shown at the very start of this tutorial"
   ]
  },
  {
   "cell_type": "markdown",
   "metadata": {},
   "source": [
    "---"
   ]
  },
  {
   "cell_type": "markdown",
   "metadata": {},
   "source": [
    "<span style=\"font-size:13pt\">To obtain the ego network of a person at a certain depth (the returned object is also of the MLN class):</span>"
   ]
  },
  {
   "cell_type": "code",
   "execution_count": 26,
   "metadata": {},
   "outputs": [
    {
     "data": {
      "text/plain": [
       "<146x146 sparse matrix of type '<class 'numpy.int64'>'\n",
       "\twith 2628 stored elements in Compressed Sparse Row format>"
      ]
     },
     "execution_count": 26,
     "metadata": {},
     "output_type": "execute_result"
    }
   ],
   "source": [
    "ego = popnet.get_egonetwork(popnet.to_label(4), depth=3)\n",
    "ego.A"
   ]
  },
  {
   "cell_type": "markdown",
   "metadata": {},
   "source": [
    "<br><span style=\"font-size:13pt\">To create an affiliation matrix between people and a certain attribute, e.g. gender:</span>"
   ]
  },
  {
   "cell_type": "code",
   "execution_count": 27,
   "metadata": {},
   "outputs": [],
   "source": [
    "# first create an edgelist of (person, attribute value) pairs \n",
    "affiliation_edgelist = popnet.nodes.set_index(\"label\")['gender'].dropna().to_dict().items()\n",
    "\n",
    "# create the affiliation matrix, under key 'work'\n",
    "popnet.create_affiliation_matrix('gender', affiliation_edgelist)"
   ]
  },
  {
   "cell_type": "markdown",
   "metadata": {},
   "source": [
    "<span style=\"font-size:13pt\">This affiliation matrix is now stored in `.affiliation_matrix`, which is a dictionary that can store several affiliation matrices. We can acces the one that was just made with key \"work\" using:</span>"
   ]
  },
  {
   "cell_type": "code",
   "execution_count": 28,
   "metadata": {},
   "outputs": [
    {
     "data": {
      "text/plain": [
       "<146x2 sparse matrix of type '<class 'numpy.int64'>'\n",
       "\twith 146 stored elements in Compressed Sparse Row format>"
      ]
     },
     "execution_count": 28,
     "metadata": {},
     "output_type": "execute_result"
    }
   ],
   "source": [
    "popnet.affiliation_matrix[\"gender\"][\"A\"]"
   ]
  },
  {
   "cell_type": "markdown",
   "metadata": {},
   "source": [
    "Get adjacency matrix for single layer, if necessary, store it in class:"
   ]
  },
  {
   "cell_type": "code",
   "execution_count": 29,
   "metadata": {},
   "outputs": [
    {
     "data": {
      "text/plain": [
       "<146x146 sparse matrix of type '<class 'numpy.int64'>'\n",
       "\twith 338 stored elements in Compressed Sparse Row format>"
      ]
     },
     "execution_count": 29,
     "metadata": {},
     "output_type": "execute_result"
    }
   ],
   "source": [
    "popnet.get_layer_adjacency_matrix(layer = \"parent\")"
   ]
  },
  {
   "cell_type": "code",
   "execution_count": 30,
   "metadata": {},
   "outputs": [
    {
     "data": {
      "text/plain": [
       "<146x146 sparse matrix of type '<class 'numpy.int64'>'\n",
       "\twith 762 stored elements in Compressed Sparse Row format>"
      ]
     },
     "execution_count": 30,
     "metadata": {},
     "output_type": "execute_result"
    }
   ],
   "source": [
    "popnet.get_layer_adjacency_matrix(layer = \"school\", store = True)"
   ]
  },
  {
   "cell_type": "code",
   "execution_count": 31,
   "metadata": {},
   "outputs": [
    {
     "data": {
      "text/plain": [
       "{'school': <146x146 sparse matrix of type '<class 'numpy.int64'>'\n",
       " \twith 762 stored elements in Compressed Sparse Row format>}"
      ]
     },
     "execution_count": 31,
     "metadata": {},
     "output_type": "execute_result"
    }
   ],
   "source": [
    "popnet.layer_adjacency_matrix"
   ]
  },
  {
   "cell_type": "code",
   "execution_count": 32,
   "metadata": {},
   "outputs": [
    {
     "data": {
      "text/html": [
       "<div>\n",
       "<style scoped>\n",
       "    .dataframe tbody tr th:only-of-type {\n",
       "        vertical-align: middle;\n",
       "    }\n",
       "\n",
       "    .dataframe tbody tr th {\n",
       "        vertical-align: top;\n",
       "    }\n",
       "\n",
       "    .dataframe thead th {\n",
       "        text-align: right;\n",
       "    }\n",
       "</style>\n",
       "<table border=\"1\" class=\"dataframe\">\n",
       "  <thead>\n",
       "    <tr style=\"text-align: right;\">\n",
       "      <th></th>\n",
       "      <th>source</th>\n",
       "      <th>target</th>\n",
       "      <th>layer</th>\n",
       "    </tr>\n",
       "  </thead>\n",
       "  <tbody>\n",
       "    <tr>\n",
       "      <th>0</th>\n",
       "      <td>50</td>\n",
       "      <td>51</td>\n",
       "      <td>sibling</td>\n",
       "    </tr>\n",
       "    <tr>\n",
       "      <th>1</th>\n",
       "      <td>50</td>\n",
       "      <td>52</td>\n",
       "      <td>sibling</td>\n",
       "    </tr>\n",
       "    <tr>\n",
       "      <th>2</th>\n",
       "      <td>50</td>\n",
       "      <td>82</td>\n",
       "      <td>sister / brother-in-law</td>\n",
       "    </tr>\n",
       "    <tr>\n",
       "      <th>3</th>\n",
       "      <td>50</td>\n",
       "      <td>97</td>\n",
       "      <td>sister / brother-in-law</td>\n",
       "    </tr>\n",
       "    <tr>\n",
       "      <th>4</th>\n",
       "      <td>50</td>\n",
       "      <td>117</td>\n",
       "      <td>aunt / uncle</td>\n",
       "    </tr>\n",
       "    <tr>\n",
       "      <th>...</th>\n",
       "      <td>...</td>\n",
       "      <td>...</td>\n",
       "      <td>...</td>\n",
       "    </tr>\n",
       "    <tr>\n",
       "      <th>3678</th>\n",
       "      <td>199</td>\n",
       "      <td>197</td>\n",
       "      <td>household</td>\n",
       "    </tr>\n",
       "    <tr>\n",
       "      <th>3678</th>\n",
       "      <td>199</td>\n",
       "      <td>197</td>\n",
       "      <td>sibling</td>\n",
       "    </tr>\n",
       "    <tr>\n",
       "      <th>3679</th>\n",
       "      <td>199</td>\n",
       "      <td>198</td>\n",
       "      <td>school</td>\n",
       "    </tr>\n",
       "    <tr>\n",
       "      <th>3679</th>\n",
       "      <td>199</td>\n",
       "      <td>198</td>\n",
       "      <td>household</td>\n",
       "    </tr>\n",
       "    <tr>\n",
       "      <th>3679</th>\n",
       "      <td>199</td>\n",
       "      <td>198</td>\n",
       "      <td>sibling</td>\n",
       "    </tr>\n",
       "  </tbody>\n",
       "</table>\n",
       "<p>5610 rows × 3 columns</p>\n",
       "</div>"
      ],
      "text/plain": [
       "      source  target                    layer\n",
       "0         50      51                  sibling\n",
       "1         50      52                  sibling\n",
       "2         50      82  sister / brother-in-law\n",
       "3         50      97  sister / brother-in-law\n",
       "4         50     117             aunt / uncle\n",
       "...      ...     ...                      ...\n",
       "3678     199     197                household\n",
       "3678     199     197                  sibling\n",
       "3679     199     198                   school\n",
       "3679     199     198                household\n",
       "3679     199     198                  sibling\n",
       "\n",
       "[5610 rows x 3 columns]"
      ]
     },
     "execution_count": 32,
     "metadata": {},
     "output_type": "execute_result"
    }
   ],
   "source": [
    "popnet.get_edgelist(edge_attribute=\"layer\")"
   ]
  },
  {
   "cell_type": "code",
   "execution_count": 33,
   "metadata": {},
   "outputs": [
    {
     "name": "stdout",
     "output_type": "stream",
     "text": [
      "convert_layer_binary_to_list\n",
      "convert_layer_representation\n",
      "create_affiliation_matrix\n",
      "export_edges\n",
      "export_layers\n",
      "export_nodes\n",
      "get_aggregated_network\n",
      "get_clustering_coefficient\n",
      "get_degrees\n",
      "get_edgelist\n",
      "get_egonetwork\n",
      "get_filtered_network\n",
      "get_layer_adjacency_matrix\n",
      "get_supra_adj_matrix\n",
      "init_codebook\n",
      "init_layer_dict\n",
      "load\n",
      "report_time\n",
      "save\n",
      "to_binary_adjacency\n",
      "to_id\n",
      "to_igraph\n",
      "to_label\n",
      "to_networkx\n",
      "verboseprint\n"
     ]
    }
   ],
   "source": [
    "# Get all methods and attributes\n",
    "methods_and_attributes = dir(popnet)\n",
    "\n",
    "# Filter out the methods\n",
    "methods = [method for method in methods_and_attributes if callable(getattr(popnet, method)) and not method.startswith(\"__\")]\n",
    "\n",
    "print('\\n'.join(methods))"
   ]
  },
  {
   "cell_type": "code",
   "execution_count": null,
   "metadata": {},
   "outputs": [],
   "source": []
  }
 ],
 "metadata": {
  "kernelspec": {
   "display_name": "Python 3",
   "language": "python",
   "name": "python3"
  },
  "language_info": {
   "codemirror_mode": {
    "name": "ipython",
    "version": 3
   },
   "file_extension": ".py",
   "mimetype": "text/x-python",
   "name": "python",
   "nbconvert_exporter": "python",
   "pygments_lexer": "ipython3",
   "version": "3.8.12"
  }
 },
 "nbformat": 4,
 "nbformat_minor": 5
}
