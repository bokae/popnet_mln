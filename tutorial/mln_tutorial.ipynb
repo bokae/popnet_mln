{
 "cells": [
  {
   "cell_type": "markdown",
   "metadata": {},
   "source": [
    "# MultiLayeredNetwork Tutorial"
   ]
  },
  {
   "cell_type": "markdown",
   "metadata": {},
   "source": [
    "<span style=\"font-size:13pt\">In this tutorial we show how the MultiLayeredNetwork (MLN) class can be used to work with the dummy POPNET network. For that we go through the relevant methods and show simple examples of how to use them. We show most functionalities on a subgraph of the network to keep processing times lower, but since this is also an MLN class, everything of course also works on the entire network.</span>"
   ]
  },
  {
   "cell_type": "markdown",
   "metadata": {},
   "source": [
    "<span style=\"font-size:13pt\">To import the class:</span>"
   ]
  },
  {
   "cell_type": "code",
   "execution_count": 1,
   "metadata": {},
   "outputs": [],
   "source": [
    "# might need to be altered depending on where mln.py is located\n",
    "import sys\n",
    "sys.path.append(\"../src\")\n",
    "from mln import MultiLayeredNetwork"
   ]
  },
  {
   "cell_type": "markdown",
   "metadata": {},
   "source": [
    "<br><span style=\"font-size:13pt\">To create an instance of the MLN class using all POPNET data:</span>"
   ]
  },
  {
   "cell_type": "code",
   "execution_count": 2,
   "metadata": {},
   "outputs": [],
   "source": [
    "popnet = MultiLayeredNetwork(\n",
    "    adjacency_file=\"../test_data/dummy_popnet/popnet_edgelist.csv\",\n",
    "    node_attribute_file=\"../test_data/dummy_popnet/popnet_nodelist.csv\"\n",
    ")"
   ]
  },
  {
   "cell_type": "code",
   "execution_count": 3,
   "metadata": {},
   "outputs": [
    {
     "data": {
      "text/plain": [
       "<146x146 sparse matrix of type '<class 'numpy.int64'>'\n",
       "\twith 3680 stored elements in Compressed Sparse Row format>"
      ]
     },
     "execution_count": 3,
     "metadata": {},
     "output_type": "execute_result"
    }
   ],
   "source": [
    "popnet.A"
   ]
  },
  {
   "cell_type": "code",
   "execution_count": 4,
   "metadata": {},
   "outputs": [
    {
     "data": {
      "text/html": [
       "<div>\n",
       "<style scoped>\n",
       "    .dataframe tbody tr th:only-of-type {\n",
       "        vertical-align: middle;\n",
       "    }\n",
       "\n",
       "    .dataframe tbody tr th {\n",
       "        vertical-align: top;\n",
       "    }\n",
       "\n",
       "    .dataframe thead th {\n",
       "        text-align: right;\n",
       "    }\n",
       "</style>\n",
       "<table border=\"1\" class=\"dataframe\">\n",
       "  <thead>\n",
       "    <tr style=\"text-align: right;\">\n",
       "      <th></th>\n",
       "      <th>label</th>\n",
       "      <th>generation</th>\n",
       "      <th>gender</th>\n",
       "      <th>NID</th>\n",
       "    </tr>\n",
       "  </thead>\n",
       "  <tbody>\n",
       "    <tr>\n",
       "      <th>0</th>\n",
       "      <td>50</td>\n",
       "      <td>1</td>\n",
       "      <td>0</td>\n",
       "      <td>0</td>\n",
       "    </tr>\n",
       "    <tr>\n",
       "      <th>1</th>\n",
       "      <td>51</td>\n",
       "      <td>1</td>\n",
       "      <td>1</td>\n",
       "      <td>1</td>\n",
       "    </tr>\n",
       "    <tr>\n",
       "      <th>2</th>\n",
       "      <td>52</td>\n",
       "      <td>1</td>\n",
       "      <td>1</td>\n",
       "      <td>2</td>\n",
       "    </tr>\n",
       "    <tr>\n",
       "      <th>3</th>\n",
       "      <td>53</td>\n",
       "      <td>1</td>\n",
       "      <td>1</td>\n",
       "      <td>3</td>\n",
       "    </tr>\n",
       "    <tr>\n",
       "      <th>4</th>\n",
       "      <td>54</td>\n",
       "      <td>1</td>\n",
       "      <td>1</td>\n",
       "      <td>4</td>\n",
       "    </tr>\n",
       "    <tr>\n",
       "      <th>...</th>\n",
       "      <td>...</td>\n",
       "      <td>...</td>\n",
       "      <td>...</td>\n",
       "      <td>...</td>\n",
       "    </tr>\n",
       "    <tr>\n",
       "      <th>141</th>\n",
       "      <td>195</td>\n",
       "      <td>3</td>\n",
       "      <td>0</td>\n",
       "      <td>141</td>\n",
       "    </tr>\n",
       "    <tr>\n",
       "      <th>142</th>\n",
       "      <td>196</td>\n",
       "      <td>3</td>\n",
       "      <td>0</td>\n",
       "      <td>142</td>\n",
       "    </tr>\n",
       "    <tr>\n",
       "      <th>143</th>\n",
       "      <td>197</td>\n",
       "      <td>3</td>\n",
       "      <td>1</td>\n",
       "      <td>143</td>\n",
       "    </tr>\n",
       "    <tr>\n",
       "      <th>144</th>\n",
       "      <td>198</td>\n",
       "      <td>3</td>\n",
       "      <td>0</td>\n",
       "      <td>144</td>\n",
       "    </tr>\n",
       "    <tr>\n",
       "      <th>145</th>\n",
       "      <td>199</td>\n",
       "      <td>3</td>\n",
       "      <td>0</td>\n",
       "      <td>145</td>\n",
       "    </tr>\n",
       "  </tbody>\n",
       "</table>\n",
       "<p>146 rows × 4 columns</p>\n",
       "</div>"
      ],
      "text/plain": [
       "     label  generation  gender  NID\n",
       "0       50           1       0    0\n",
       "1       51           1       1    1\n",
       "2       52           1       1    2\n",
       "3       53           1       1    3\n",
       "4       54           1       1    4\n",
       "..     ...         ...     ...  ...\n",
       "141    195           3       0  141\n",
       "142    196           3       0  142\n",
       "143    197           3       1  143\n",
       "144    198           3       0  144\n",
       "145    199           3       0  145\n",
       "\n",
       "[146 rows x 4 columns]"
      ]
     },
     "execution_count": 4,
     "metadata": {},
     "output_type": "execute_result"
    }
   ],
   "source": [
    "popnet.node_attributes"
   ]
  },
  {
   "cell_type": "markdown",
   "metadata": {},
   "source": [
    "---"
   ]
  },
  {
   "cell_type": "markdown",
   "metadata": {},
   "source": [
    "## Filtering"
   ]
  },
  {
   "cell_type": "markdown",
   "metadata": {},
   "source": [
    "<br><span style=\"font-size:13pt\">To get an instance of the MLN class only containing **nodes with certain labels**</span>"
   ]
  },
  {
   "cell_type": "code",
   "execution_count": 5,
   "metadata": {},
   "outputs": [],
   "source": [
    "from random import sample\n",
    "# selecting females\n",
    "filtered_ids = popnet.node_attributes[popnet.node_attributes[\"gender\"]==0][\"label\"]"
   ]
  },
  {
   "cell_type": "code",
   "execution_count": 6,
   "metadata": {},
   "outputs": [
    {
     "name": "stdout",
     "output_type": "stream",
     "text": [
      "Number of people: 76\n",
      "Number of connected pairs of people: 914\n"
     ]
    }
   ],
   "source": [
    "filtered = popnet.get_filtered_network(selected_nodes=filtered_ids)\n",
    "\n",
    "print(\"Number of people:\", filtered.N)\n",
    "print(\"Number of connected pairs of people:\", filtered.A.nnz)"
   ]
  },
  {
   "cell_type": "markdown",
   "metadata": {},
   "source": [
    "<br><span style=\"font-size:13pt\">To get an instance of the MLN class containing just **certain layers**, e.g. the household layer:</span>"
   ]
  },
  {
   "cell_type": "code",
   "execution_count": 7,
   "metadata": {},
   "outputs": [
    {
     "name": "stdout",
     "output_type": "stream",
     "text": [
      "Binary repr 32\n",
      "Number of people: 76\n",
      "Number of connected pairs of people: 50\n"
     ]
    }
   ],
   "source": [
    "filtered_h = filtered.get_filtered_network(layers=[\"household\"])\n",
    "\n",
    "print(\"Number of people:\", filtered_h.N)\n",
    "print(\"Number of connected pairs of people:\", filtered_h.A.nnz)"
   ]
  },
  {
   "cell_type": "markdown",
   "metadata": {},
   "source": [
    "<br><span style=\"font-size:13pt\">These filtering methods can also be used in **any combination**, e.g. all together:</span>"
   ]
  },
  {
   "cell_type": "code",
   "execution_count": 10,
   "metadata": {},
   "outputs": [
    {
     "name": "stdout",
     "output_type": "stream",
     "text": [
      "Binary repr 33\n",
      "Number of people: 76\n",
      "Number of connected pairs of people: 180\n"
     ]
    }
   ],
   "source": [
    "filtered = popnet.get_filtered_network(\n",
    "    selected_nodes=filtered_ids,\n",
    "    layers=[\"household\", \"work\"]\n",
    ")\n",
    "\n",
    "print(\"Number of people:\", filtered.N)\n",
    "print(\"Number of connected pairs of people:\", filtered.A.nnz)"
   ]
  },
  {
   "cell_type": "markdown",
   "metadata": {},
   "source": [
    "---"
   ]
  },
  {
   "cell_type": "markdown",
   "metadata": {},
   "source": [
    "## Conversion to other formats"
   ]
  },
  {
   "cell_type": "markdown",
   "metadata": {},
   "source": [
    "### igraph"
   ]
  },
  {
   "cell_type": "markdown",
   "metadata": {},
   "source": [
    "<span style=\"font-size:13pt\">Note that igraph automatically labels nodes from 0 through N-1 but these labels very likely do not line up with the mapping from IDs to labels as stored in `mln.nodemap_back`. However, we do always store the labels as node attributes.</span>"
   ]
  },
  {
   "cell_type": "code",
   "execution_count": 11,
   "metadata": {},
   "outputs": [],
   "source": [
    "# prerequisites, also make sure to import the MLN class and create the\n",
    "# `popnet` instance, as shown at the very start of this tutorial\n",
    "\n",
    "import igraph as ig\n",
    "\n",
    "filtered = popnet.get_filtered_network(selected_nodes=filtered_ids)"
   ]
  },
  {
   "cell_type": "markdown",
   "metadata": {},
   "source": [
    "---"
   ]
  },
  {
   "cell_type": "markdown",
   "metadata": {},
   "source": [
    "<span style=\"font-size:13pt\">To obtain an **igraph Graph object** representing the MLN:</span>"
   ]
  },
  {
   "cell_type": "code",
   "execution_count": 12,
   "metadata": {},
   "outputs": [
    {
     "name": "stdout",
     "output_type": "stream",
     "text": [
      "IGRAPH D--- 76 914 -- \n",
      "+ attr: label (v), link_types (e)\n"
     ]
    }
   ],
   "source": [
    "g_igraph = filtered.to_igraph()\n",
    "\n",
    "ig.summary(g_igraph) # print the node count, edge count, and a list of the available attributes"
   ]
  },
  {
   "cell_type": "markdown",
   "metadata": {},
   "source": [
    "<br><span style=\"font-size:13pt\">To obtain an **undirected** igraph Graph object of the MLN:</span>"
   ]
  },
  {
   "cell_type": "code",
   "execution_count": 13,
   "metadata": {},
   "outputs": [
    {
     "name": "stdout",
     "output_type": "stream",
     "text": [
      "IGRAPH U--- 76 457 -- \n",
      "+ attr: label (v), link_types (e)\n",
      "Directed: False\n"
     ]
    }
   ],
   "source": [
    "g_igraph_u = filtered.to_igraph(directed=False)\n",
    "\n",
    "ig.summary(g_igraph_u)\n",
    "print(\"Directed:\", g_igraph_u.is_directed())"
   ]
  },
  {
   "cell_type": "markdown",
   "metadata": {},
   "source": [
    "<br><span style=\"font-size:13pt\">To **omit link types and node attributes** (except for the labels):</span>"
   ]
  },
  {
   "cell_type": "code",
   "execution_count": 14,
   "metadata": {},
   "outputs": [
    {
     "name": "stdout",
     "output_type": "stream",
     "text": [
      "IGRAPH D--- 76 914 -- \n",
      "+ attr: label (v), link_types (e)\n"
     ]
    }
   ],
   "source": [
    "g_igraph = filtered.to_igraph(edge_attributes=False, node_attributes=False)\n",
    "\n",
    "ig.summary(g_igraph)"
   ]
  },
  {
   "cell_type": "markdown",
   "metadata": {},
   "source": [
    "<br><span style=\"font-size:13pt\">The igraph objects are also stored in the `igraph` attribute of the MLN class. Unless we specify otherwise, only the result from the first call to `.get_igraph()` will be stored. To overwrite this:</span>"
   ]
  },
  {
   "cell_type": "code",
   "execution_count": 15,
   "metadata": {},
   "outputs": [
    {
     "name": "stdout",
     "output_type": "stream",
     "text": [
      "Before:\n",
      "IGRAPH D--- 76 914 -- \n",
      "+ attr: label (v), link_types (e)\n",
      "\n",
      "After:\n",
      "IGRAPH U--- 76 457 -- \n",
      "+ attr: label (v), link_types (e)\n"
     ]
    }
   ],
   "source": [
    "print(\"Before:\")\n",
    "ig.summary(filtered.igraph)\n",
    "\n",
    "# overwrite using replace_igraph=True\n",
    "filtered.to_igraph(replace_igraph=True, directed=False, node_attributes=False)\n",
    "\n",
    "print(\"\\nAfter:\")\n",
    "ig.summary(filtered.igraph)"
   ]
  },
  {
   "cell_type": "markdown",
   "metadata": {},
   "source": [
    "<br>"
   ]
  },
  {
   "cell_type": "markdown",
   "metadata": {},
   "source": [
    "---"
   ]
  },
  {
   "cell_type": "markdown",
   "metadata": {},
   "source": [
    "### NetworkX"
   ]
  },
  {
   "cell_type": "markdown",
   "metadata": {},
   "source": [
    "<span style=\"font-size:13pt\">Note that NetworkX automatically labels nodes from 0 through N-1 but these labels very likely do not line up with the mapping from IDs to labels as stored in the class. However, we do always store the labels as node attributes.</span>"
   ]
  },
  {
   "cell_type": "code",
   "execution_count": 16,
   "metadata": {},
   "outputs": [],
   "source": [
    "# prerequisites, also make sure to import the MLN class and create the\n",
    "# `popnet` instance, as shown at the very start of this tutorial\n",
    "\n",
    "import networkx as nx\n",
    "\n",
    "filtered = popnet.get_filtered_network(selected_nodes=filtered_ids)"
   ]
  },
  {
   "cell_type": "markdown",
   "metadata": {},
   "source": [
    "---"
   ]
  },
  {
   "cell_type": "markdown",
   "metadata": {},
   "source": [
    "<span style=\"font-size:13pt\">We can also obtain a **NetworkX graph** representation of the MLN. Since NetworkX is a less efficient library, we recommend to only use if for networks smaller than `mln.nx_limit`. To create a NetworkX graph for a network that is larger:</span>"
   ]
  },
  {
   "cell_type": "code",
   "execution_count": 17,
   "metadata": {},
   "outputs": [
    {
     "name": "stdout",
     "output_type": "stream",
     "text": [
      "DiGraph with 76 nodes and 914 edges\n"
     ]
    }
   ],
   "source": [
    "g_nx = filtered.to_networkx(ignore_limit=True)\n",
    "\n",
    "print(nx.info(g_nx))"
   ]
  },
  {
   "cell_type": "markdown",
   "metadata": {},
   "source": [
    "<br><span style=\"font-size:13pt\">To obtain an **undirected** version of the network:</span>"
   ]
  },
  {
   "cell_type": "code",
   "execution_count": 18,
   "metadata": {},
   "outputs": [
    {
     "name": "stdout",
     "output_type": "stream",
     "text": [
      "Graph with 76 nodes and 457 edges\n"
     ]
    }
   ],
   "source": [
    "g_nx = filtered.to_networkx(node_attributes=True,directed=False, ignore_limit=True)\n",
    "\n",
    "print(nx.info(g_nx))"
   ]
  },
  {
   "cell_type": "markdown",
   "metadata": {},
   "source": [
    "<br><span style=\"font-size:13pt\">To **node attributes** (except for the labels):</span>"
   ]
  },
  {
   "cell_type": "code",
   "execution_count": 19,
   "metadata": {},
   "outputs": [
    {
     "name": "stdout",
     "output_type": "stream",
     "text": [
      "{'label': 0, 'generation': 1, 'gender': 0, 'NID': 0}\n",
      "{'link_types': ['sister / brother-in-law']}\n",
      "\n",
      "{'label': 0}\n",
      "{}\n"
     ]
    }
   ],
   "source": [
    "print(g_nx.nodes[0])\n",
    "print(g_nx.edges[0, 15]) # inspect one link manually to show the link type\n",
    "\n",
    "# new graph without node and edge attributes\n",
    "g_nx = filtered.to_networkx(edge_attributes=False, node_attributes=False, ignore_limit=True)\n",
    "\n",
    "print()\n",
    "print(g_nx.nodes[0])\n",
    "print(g_nx.edges[0,15])"
   ]
  },
  {
   "cell_type": "markdown",
   "metadata": {},
   "source": [
    "<span style=\"font-size:13pt\">The NetworkX networks are not stored directly as an attribute of the MLN class, and so there is no replace function as there is for igraph.</span>"
   ]
  },
  {
   "cell_type": "markdown",
   "metadata": {},
   "source": [
    "---"
   ]
  },
  {
   "cell_type": "markdown",
   "metadata": {},
   "source": [
    "\n",
    "## Exporting and importing"
   ]
  },
  {
   "cell_type": "code",
   "execution_count": 20,
   "metadata": {},
   "outputs": [],
   "source": [
    "# prerequisites, also make sure to import the MLN class and create the\n",
    "# `popnet` instance, as shown at the very start of this tutorial\n",
    "\n",
    "import pandas as pd\n",
    "\n",
    "filtered = popnet.get_filtered_network(selected_nodes=filtered_ids)"
   ]
  },
  {
   "cell_type": "code",
   "execution_count": 21,
   "metadata": {},
   "outputs": [],
   "source": [
    "import os\n",
    "# setting current path as library directory\n",
    "filtered.library_path = os.getcwd()"
   ]
  },
  {
   "cell_type": "markdown",
   "metadata": {},
   "source": [
    "---"
   ]
  },
  {
   "cell_type": "markdown",
   "metadata": {},
   "source": [
    "<span style=\"font-size:13pt\">To **export all data** in an MLN object to a library:</span>"
   ]
  },
  {
   "cell_type": "code",
   "execution_count": 22,
   "metadata": {},
   "outputs": [
    {
     "name": "stdout",
     "output_type": "stream",
     "text": [
      "Library \"/home/bokanyie/projects/popnet_mln/tutorial/filtered_full\" already exists, call function with `overwrite = True` keyword argument if you're sure!\n"
     ]
    }
   ],
   "source": [
    "filtered.export(library_name=\"filtered_full\")"
   ]
  },
  {
   "cell_type": "markdown",
   "metadata": {},
   "source": [
    "<span style=\"font-size:13pt\">If a folder with the given name already exists, we can overwrite it with the argument `overwrite=True`.</span>"
   ]
  },
  {
   "cell_type": "markdown",
   "metadata": {},
   "source": [
    "<br><span style=\"font-size:13pt\">To **import** from a libary:</span>"
   ]
  },
  {
   "cell_type": "code",
   "execution_count": 23,
   "metadata": {},
   "outputs": [],
   "source": [
    "filtered2 = MultiLayeredNetwork(\n",
    "    from_library=\"filtered_full\",\n",
    "    library_path=filtered.library_path\n",
    ")"
   ]
  },
  {
   "cell_type": "markdown",
   "metadata": {},
   "source": [
    "<br><span style=\"font-size:13pt\">The **node attributes** can also be exported separately:</span>"
   ]
  },
  {
   "cell_type": "code",
   "execution_count": 24,
   "metadata": {},
   "outputs": [],
   "source": [
    "filtered.export_node_attributes(\"filtered_node_attrs.csv.gz\")"
   ]
  },
  {
   "cell_type": "markdown",
   "metadata": {},
   "source": [
    "<span style=\"font-size:13pt\">Uncompressed files and other file separators are also available.</span>"
   ]
  },
  {
   "cell_type": "markdown",
   "metadata": {},
   "source": [
    "<br><span style=\"font-size:13pt\">The **adjacency matrix** can also be exported separately:</span>"
   ]
  },
  {
   "cell_type": "code",
   "execution_count": 25,
   "metadata": {},
   "outputs": [],
   "source": [
    "filtered.export_graph(\"filtered_graph.graphml\")"
   ]
  },
  {
   "cell_type": "markdown",
   "metadata": {},
   "source": [
    "<span style=\"font-size:13pt\">Other file types and separators are also available.</span>"
   ]
  },
  {
   "cell_type": "markdown",
   "metadata": {},
   "source": [
    "---"
   ]
  },
  {
   "cell_type": "markdown",
   "metadata": {},
   "source": [
    "## Other functionalities / examples"
   ]
  },
  {
   "cell_type": "code",
   "execution_count": 30,
   "metadata": {},
   "outputs": [],
   "source": [
    "# prerequisites, also make sure to import the MLN class and create the\n",
    "# `popnet` instance, as shown at the very start of this tutorial"
   ]
  },
  {
   "cell_type": "markdown",
   "metadata": {},
   "source": [
    "---"
   ]
  },
  {
   "cell_type": "markdown",
   "metadata": {},
   "source": [
    "<span style=\"font-size:13pt\">To obtain the ego network of a person at a certain depth (the returned object is also of the MLN class):</span>"
   ]
  },
  {
   "cell_type": "code",
   "execution_count": 32,
   "metadata": {},
   "outputs": [],
   "source": [
    "ego = popnet.get_egonetwork(popnet.map_nid_to_label[0], depth=2)"
   ]
  },
  {
   "cell_type": "markdown",
   "metadata": {},
   "source": [
    "<br><span style=\"font-size:13pt\">To create an affiliation matrix between people and a certain attribute, e.g. gender:</span>"
   ]
  },
  {
   "cell_type": "code",
   "execution_count": 33,
   "metadata": {},
   "outputs": [],
   "source": [
    "# first create an edgelist of (person, attribute value) pairs \n",
    "affiliation_edgelist = popnet.node_attributes.set_index(\"label\")['gender'].dropna().to_dict().items()\n",
    "\n",
    "# create the affiliation matrix, under key 'work'\n",
    "popnet.create_affiliation_matrix('gender', affiliation_edgelist)"
   ]
  },
  {
   "cell_type": "markdown",
   "metadata": {},
   "source": [
    "<span style=\"font-size:13pt\">This affiliation matrix is now stored in `.affiliation_matrix`, which is a dictionary that can store several affiliation matrices. We can acces the one that was just made with key \"work\" using:</span>"
   ]
  },
  {
   "cell_type": "code",
   "execution_count": 36,
   "metadata": {},
   "outputs": [
    {
     "data": {
      "text/plain": [
       "<146x2 sparse matrix of type '<class 'numpy.int64'>'\n",
       "\twith 146 stored elements in Compressed Sparse Row format>"
      ]
     },
     "execution_count": 36,
     "metadata": {},
     "output_type": "execute_result"
    }
   ],
   "source": [
    "popnet.affiliation_matrix[\"gender\"][\"A\"]"
   ]
  }
 ],
 "metadata": {
  "kernelspec": {
   "display_name": "Python 3",
   "language": "python",
   "name": "python3"
  },
  "language_info": {
   "codemirror_mode": {
    "name": "ipython",
    "version": 3
   },
   "file_extension": ".py",
   "mimetype": "text/x-python",
   "name": "python",
   "nbconvert_exporter": "python",
   "pygments_lexer": "ipython3",
   "version": "3.8.12"
  }
 },
 "nbformat": 4,
 "nbformat_minor": 5
}
